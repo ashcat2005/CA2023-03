{
 "cells": [
  {
   "cell_type": "code",
   "execution_count": null,
   "metadata": {},
   "outputs": [],
   "source": [
    "import numpy as np\n",
    "import matplotlib.pyplot as plt\n",
    "\n",
    "\n",
    "# load a csv into numpy\n",
    "def load_csv(filename):\n",
    "\treturn np.loadtxt(filename, delimiter=',')\n",
    "\n",
    "\n",
    "\n",
    "datos=np.loadtxt('kernels_values.csv', delimiter=',')"
   ]
  }
 ],
 "metadata": {
  "language_info": {
   "name": "python"
  }
 },
 "nbformat": 4,
 "nbformat_minor": 2
}
