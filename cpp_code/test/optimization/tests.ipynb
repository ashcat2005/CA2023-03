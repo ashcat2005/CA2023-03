{
 "cells": [
  {
   "cell_type": "code",
   "execution_count": 89,
   "metadata": {},
   "outputs": [],
   "source": [
    "import numpy as np\n",
    "import time\n",
    "import sph as sp\n",
    "np.set_printoptions(formatter={'float_kind': '{:0.2e}'.format})\n"
   ]
  },
  {
   "cell_type": "code",
   "execution_count": 97,
   "metadata": {},
   "outputs": [
    {
     "name": "stdout",
     "output_type": "stream",
     "text": [
      "sum_vectors: 7.16848e+03 ns\n"
     ]
    }
   ],
   "source": [
    "# Test 1\n",
    "def sum_vectors(a, b):\n",
    "\treturn a + b\n",
    "\n",
    "a = np.random.rand(1000, 1000)\n",
    "b = np.random.rand(1000, 1000)\n",
    "N = 10000\n",
    "duration = np.zeros(N)\n",
    "\n",
    "for ii in range(N):\n",
    "    random_index = np.random.randint(0, 1000)\n",
    "    t1 = time.perf_counter_ns()\n",
    "    c = sum_vectors(a[:, random_index], b[random_index, :])\n",
    "    t2 = time.perf_counter_ns()\n",
    "    duration[ii] = t2 - t1\n",
    "np.set_printoptions(formatter={'float_kind': '{:0.10e}'.format})\n",
    "print(f\"sum_vectors: {np.format_float_scientific(np.mean(duration))} ns\")"
   ]
  },
  {
   "cell_type": "code",
   "execution_count": 98,
   "metadata": {},
   "outputs": [
    {
     "name": "stdout",
     "output_type": "stream",
     "text": [
      "Presure: 4.3990735e+06 ns\n"
     ]
    }
   ],
   "source": [
    "#test2\n",
    "a = np.random.rand(1000, 1000)\n",
    "N = 1000\n",
    "duration = np.zeros(N)\n",
    "\n",
    "for ii in range(N):\n",
    "\tt1 = time.perf_counter_ns()\n",
    "\tc = sp.Pressure(a,0.1,1)\n",
    "\tt2 = time.perf_counter_ns()\n",
    "\tduration[ii] = t2 - t1\n",
    "\n",
    "print(f\"Presure: {np.format_float_scientific(np.mean(duration))} ns\")"
   ]
  },
  {
   "cell_type": "code",
   "execution_count": null,
   "metadata": {},
   "outputs": [],
   "source": [
    "#test3\n",
    "\n",
    "r=np.random.rand(1000, 3)\n",
    "pos=np.random.rand(1000, 3)\t\n",
    "N = 1000\n",
    "duration = np.zeros(N)\n",
    "\n",
    "for ii in range(N):\n",
    "\tt1 = time.perf_counter_ns()\n",
    "\tc = sp.PairwiseSeparations(r,pos)\n",
    "\tt2 = time.perf_counter_ns()\n",
    "\tduration[ii] = t2 - t1\n",
    "\n"
   ]
  }
 ],
 "metadata": {
  "kernelspec": {
   "display_name": "Python 3",
   "language": "python",
   "name": "python3"
  },
  "language_info": {
   "codemirror_mode": {
    "name": "ipython",
    "version": 3
   },
   "file_extension": ".py",
   "mimetype": "text/x-python",
   "name": "python",
   "nbconvert_exporter": "python",
   "pygments_lexer": "ipython3",
   "version": "3.11.4"
  },
  "orig_nbformat": 4
 },
 "nbformat": 4,
 "nbformat_minor": 2
}
